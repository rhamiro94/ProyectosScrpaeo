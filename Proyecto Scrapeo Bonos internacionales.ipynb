{
 "cells": [
  {
   "cell_type": "code",
   "execution_count": 1,
   "id": "dabdcc02",
   "metadata": {},
   "outputs": [],
   "source": [
    "!pip install requests --quiet\n",
    "!pip install beautifulsoup4 --quiet\n",
    "\n",
    "import requests\n",
    "from bs4 import BeautifulSoup"
   ]
  },
  {
   "cell_type": "code",
   "execution_count": 178,
   "id": "22305d23",
   "metadata": {},
   "outputs": [],
   "source": [
    "import pandas as pd"
   ]
  },
  {
   "cell_type": "code",
   "execution_count": 27,
   "id": "7f8fce00",
   "metadata": {},
   "outputs": [],
   "source": [
    "##Definimos Url\n",
    "\n",
    "my_url = 'https://datosmacro.expansion.com/bono'\n",
    "response = requests.get(my_url)"
   ]
  },
  {
   "cell_type": "code",
   "execution_count": 28,
   "id": "1433b300",
   "metadata": {},
   "outputs": [
    {
     "name": "stdout",
     "output_type": "stream",
     "text": [
      "response.ok : False , response.status_code : 403\n"
     ]
    }
   ],
   "source": [
    "#Verificamos que todo este en orden\n",
    "print(\"response.ok : {} , response.status_code : {}\".format(response.ok , response.status_code))\n"
   ]
  },
  {
   "cell_type": "code",
   "execution_count": 12,
   "id": "2696b586",
   "metadata": {},
   "outputs": [
    {
     "name": "stdout",
     "output_type": "stream",
     "text": [
      "Preview of response.text :  <!DOCTYPE html><html  lang=\"es\" dir=\"ltr\" prefix=\"og: https://ogp.me/ns#\"><head><meta charset=\"utf-8\" />\n",
      "<meta name=\"description\" content=\"Los bonos son títulos de renta fija. Los países emiten bonos a 10 años para financiarse. Cuanto mayor es el riesgo de un país más deberá remunerar a los inversores para que adquieran su deuda. Por lo tanto, mayor será la rentabilidad de sus bonos o tipode interés que ofrece la deuda pública de dicho país para que los inversores la compren. La diferencia entre\n"
     ]
    }
   ],
   "source": [
    "#Verificamos que todo este en orden\n",
    "print(\"Preview of response.text : \", response.text[:500])\n"
   ]
  },
  {
   "cell_type": "code",
   "execution_count": 13,
   "id": "71b3170e",
   "metadata": {},
   "outputs": [],
   "source": [
    "#Definimos nuestra función para leer el url, el contenido del html y la funcion de lect de Bs4\n",
    "\n",
    "def get_page(url):\n",
    "    \"\"\"Descargar pag\"\"\"\n",
    "    response = requests.get(url)\n",
    "    if not response.ok:\n",
    "        print('Status code:', response.status_code)\n",
    "        raise Exception('Failed to load page {}'.format(url))\n",
    "    page_content = response.text\n",
    "    doc = BeautifulSoup(page_content, 'html.parser')\n",
    "    return doc"
   ]
  },
  {
   "cell_type": "code",
   "execution_count": 173,
   "id": "f1f528ec",
   "metadata": {},
   "outputs": [
    {
     "data": {
      "text/plain": [
       "24"
      ]
     },
     "execution_count": 173,
     "metadata": {},
     "output_type": "execute_result"
    }
   ],
   "source": [
    "#Creamos un objeto que traiga las filas que queremos capturar\n",
    "div_tags = doc.find_all('tr')\n",
    "len(div_tags)"
   ]
  },
  {
   "cell_type": "code",
   "execution_count": 35,
   "id": "a750f4b6",
   "metadata": {},
   "outputs": [
    {
     "name": "stdout",
     "output_type": "stream",
     "text": [
      "<tr><td><a href=\"https://datosmacro.expansion.com/bono/espana\">España [+]</a></td><td class=\"fecha\" data-value=\"2024-01-03\">03/01/2024</td><td class=\"numero\" data-value=\"2.99\">2,99%</td><td class=\"hbar wdsp2\"><div class=\"graph_hbar\" style=\"background-color: #F1BF00; width:31.9%;\" title=\"2,99%\"></div></td><td class=\"numero text-neg\" data-value=\"-0.03\">-0,03</td><td class=\"numero text-neg\" data-value=\"-0.37\">-0,37</td><td class=\"numero text-neg\" data-value=\"-0.46\">-0,46</td></tr>\n"
     ]
    }
   ],
   "source": [
    "#Inspeccionamos el elemento que nos trae las filas que identificamos como tr\n",
    "print (div_tags[1])"
   ]
  },
  {
   "cell_type": "code",
   "execution_count": 114,
   "id": "1cf5b35a",
   "metadata": {},
   "outputs": [],
   "source": [
    "#Creo otra funcion para fecha\n",
    "div_class= doc.find_all('td', {'class': \"fecha\"})"
   ]
  },
  {
   "cell_type": "code",
   "execution_count": 58,
   "id": "4aad833e",
   "metadata": {},
   "outputs": [
    {
     "data": {
      "text/plain": [
       "23"
      ]
     },
     "execution_count": 58,
     "metadata": {},
     "output_type": "execute_result"
    }
   ],
   "source": [
    "#Inspeccionamos longitud del  elemento que nos trae las filas que identificamos como td\n",
    "len (div_class)"
   ]
  },
  {
   "cell_type": "code",
   "execution_count": 145,
   "id": "ba39d77b",
   "metadata": {},
   "outputs": [
    {
     "name": "stdout",
     "output_type": "stream",
     "text": [
      "<td class=\"fecha\" data-value=\"2024-01-03\">03/01/2024</td>\n"
     ]
    }
   ],
   "source": [
    "#Imprimos para conocer mas que contiene el objeto que definimos, hace mucho no uso bs4\n",
    "print (div_class[0])"
   ]
  },
  {
   "cell_type": "code",
   "execution_count": 147,
   "id": "a26f8bba",
   "metadata": {},
   "outputs": [
    {
     "data": {
      "text/plain": [
       "92"
      ]
     },
     "execution_count": 147,
     "metadata": {},
     "output_type": "execute_result"
    }
   ],
   "source": [
    "#Creo otra funcion para rendimiento e isnpecciono\n",
    "div_class2= doc.find_all('td', {'class': \"numero\"})\n",
    "len (div_class2)"
   ]
  },
  {
   "cell_type": "code",
   "execution_count": 91,
   "id": "dfb8535a",
   "metadata": {},
   "outputs": [
    {
     "name": "stdout",
     "output_type": "stream",
     "text": [
      "<td class=\"numero text-neg\" data-value=\"-0.03\">-0,03</td>\n"
     ]
    }
   ],
   "source": [
    "#Imprimos para conocer mas que contiene el objeto que definimos, hace mucho no uso bs4\n",
    "print (div_class2[1])"
   ]
  },
  {
   "cell_type": "code",
   "execution_count": 136,
   "id": "69448bf1",
   "metadata": {},
   "outputs": [
    {
     "name": "stdout",
     "output_type": "stream",
     "text": [
      "Pais España [+]\n",
      "Fecha 03/01/2024\n",
      "Rendimiento 2,99%\n"
     ]
    }
   ],
   "source": [
    "#primero tratamos de entender como viene la mano\n",
    "print(\"Pais\", div_tags[1].find('a').text)\n",
    "print(\"Fecha\" , div_class[1].text)\n",
    "print(\"Rendimiento\" , div_class2[0].text)\n"
   ]
  },
  {
   "cell_type": "code",
   "execution_count": 180,
   "id": "1261777c",
   "metadata": {},
   "outputs": [
    {
     "name": "stdout",
     "output_type": "stream",
     "text": [
      "País: España [+]\n",
      "Fecha: 03/01/2024\n",
      "Rendimiento: 2,99%\n",
      "\n",
      "País: Alemania [+]\n",
      "Fecha: 03/01/2024\n",
      "Rendimiento: 2,01%\n",
      "\n",
      "País: Reino Unido [+]\n",
      "Fecha: 03/01/2024\n",
      "Rendimiento: 3,65%\n",
      "\n",
      "País: Francia [+]\n",
      "Fecha: 03/01/2024\n",
      "Rendimiento: 2,56%\n",
      "\n",
      "País: Italia [+]\n",
      "Fecha: 03/01/2024\n",
      "Rendimiento: 3,69%\n",
      "\n",
      "País: Portugal [+]\n",
      "Fecha: 03/01/2024\n",
      "Rendimiento: 2,78%\n",
      "\n",
      "País: Estados Unidos [+]\n",
      "Fecha: 03/01/2024\n",
      "Rendimiento: 3,94%\n",
      "\n",
      "País: Japón [+]\n",
      "Fecha: 29/12/2023\n",
      "Rendimiento: 0,63%\n",
      "\n",
      "País: Australia [+]\n",
      "Fecha: 03/01/2024\n",
      "Rendimiento: 4,05%\n",
      "\n",
      "País: Austria [+]\n",
      "Fecha: 03/01/2024\n",
      "Rendimiento: 2,58%\n",
      "\n",
      "País: Bélgica [+]\n",
      "Fecha: 03/01/2024\n",
      "Rendimiento: 2,67%\n",
      "\n",
      "País: Canadá [+]\n",
      "Fecha: 03/01/2024\n",
      "Rendimiento: 3,18%\n",
      "\n",
      "País: Dinamarca [+]\n",
      "Fecha: 02/01/2024\n",
      "Rendimiento: 2,31%\n",
      "\n",
      "País: Finlandia [+]\n",
      "Fecha: 03/01/2024\n",
      "Rendimiento: 2,56%\n",
      "\n",
      "País: Grecia [+]\n",
      "Fecha: 03/01/2024\n",
      "Rendimiento: 3,09%\n",
      "\n",
      "País: India [+]\n",
      "Fecha: 03/01/2024\n",
      "Rendimiento: 7,22%\n",
      "\n",
      "País: Irlanda [+]\n",
      "Fecha: 03/01/2024\n",
      "Rendimiento: 2,35%\n",
      "\n",
      "País: México [+]\n",
      "Fecha: 03/01/2024\n",
      "Rendimiento: 9,39%\n",
      "\n",
      "País: Noruega [+]\n",
      "Fecha: 03/01/2024\n",
      "Rendimiento: 3,18%\n",
      "\n",
      "País: Nueva Zelanda [+]\n",
      "Fecha: 03/01/2024\n",
      "Rendimiento: 4,56%\n",
      "\n",
      "País: Países Bajos [+]\n",
      "Fecha: 03/01/2024\n",
      "Rendimiento: 2,33%\n",
      "\n",
      "País: Suecia [+]\n",
      "Fecha: 02/01/2024\n",
      "Rendimiento: 2,09%\n",
      "\n",
      "País: Suiza [+]\n",
      "Fecha: 03/01/2024\n",
      "Rendimiento: 0,67%\n",
      "\n",
      "[{'Pais': 'España [+]', 'Fecha': '03/01/2024', 'Rendimiento': '2,99%'}, {'Pais': 'Alemania [+]', 'Fecha': '03/01/2024', 'Rendimiento': '2,01%'}, {'Pais': 'Reino Unido [+]', 'Fecha': '03/01/2024', 'Rendimiento': '3,65%'}, {'Pais': 'Francia [+]', 'Fecha': '03/01/2024', 'Rendimiento': '2,56%'}, {'Pais': 'Italia [+]', 'Fecha': '03/01/2024', 'Rendimiento': '3,69%'}, {'Pais': 'Portugal [+]', 'Fecha': '03/01/2024', 'Rendimiento': '2,78%'}, {'Pais': 'Estados Unidos [+]', 'Fecha': '03/01/2024', 'Rendimiento': '3,94%'}, {'Pais': 'Japón [+]', 'Fecha': '29/12/2023', 'Rendimiento': '0,63%'}, {'Pais': 'Australia [+]', 'Fecha': '03/01/2024', 'Rendimiento': '4,05%'}, {'Pais': 'Austria [+]', 'Fecha': '03/01/2024', 'Rendimiento': '2,58%'}, {'Pais': 'Bélgica [+]', 'Fecha': '03/01/2024', 'Rendimiento': '2,67%'}, {'Pais': 'Canadá [+]', 'Fecha': '03/01/2024', 'Rendimiento': '3,18%'}, {'Pais': 'Dinamarca [+]', 'Fecha': '02/01/2024', 'Rendimiento': '2,31%'}, {'Pais': 'Finlandia [+]', 'Fecha': '03/01/2024', 'Rendimiento': '2,56%'}, {'Pais': 'Grecia [+]', 'Fecha': '03/01/2024', 'Rendimiento': '3,09%'}, {'Pais': 'India [+]', 'Fecha': '03/01/2024', 'Rendimiento': '7,22%'}, {'Pais': 'Irlanda [+]', 'Fecha': '03/01/2024', 'Rendimiento': '2,35%'}, {'Pais': 'México [+]', 'Fecha': '03/01/2024', 'Rendimiento': '9,39%'}, {'Pais': 'Noruega [+]', 'Fecha': '03/01/2024', 'Rendimiento': '3,18%'}, {'Pais': 'Nueva Zelanda [+]', 'Fecha': '03/01/2024', 'Rendimiento': '4,56%'}, {'Pais': 'Países Bajos [+]', 'Fecha': '03/01/2024', 'Rendimiento': '2,33%'}, {'Pais': 'Suecia [+]', 'Fecha': '02/01/2024', 'Rendimiento': '2,09%'}, {'Pais': 'Suiza [+]', 'Fecha': '03/01/2024', 'Rendimiento': '0,67%'}]\n"
     ]
    }
   ],
   "source": [
    "#Vamos a listar los datos que venimos capturando\n",
    "data_list = []\n",
    "\n",
    "# Define el índice inicial, 1\n",
    "starting_index = 1\n",
    "\n",
    "for i in range(starting_index, len(div_tags)):\n",
    "    row = div_tags[i]\n",
    "\n",
    "    # Obtener el país\n",
    "    pais_elem = row.find('a')\n",
    "    pais = pais_elem.text if pais_elem else \"País no encontrado\"\n",
    "    print(\"País:\", pais)\n",
    "\n",
    "    # Obtener la fecha\n",
    "    fecha_elem = row.find('td', {'class': \"fecha\"})\n",
    "    fecha = fecha_elem.text if fecha_elem else \"Fecha no encontrada\"\n",
    "    print(\"Fecha:\", fecha)\n",
    "\n",
    "    # Obtener el rendimiento\n",
    "    rendimiento_elem = row.find('td', {'class': \"numero\"})\n",
    "    rendimiento = rendimiento_elem.text if rendimiento_elem else \"Rendimiento no encontrado\"\n",
    "    print(\"Rendimiento:\", rendimiento)\n",
    "\n",
    "    # Crear un diccionario con la información de la fila\n",
    "    row_data = {\"Pais\": pais, \"Fecha\": fecha, \"Rendimiento\": rendimiento}\n",
    "\n",
    "    # Agregar el diccionario a la lista\n",
    "    data_list.append(row_data)\n",
    "\n",
    "    print()  # Imprimir línea en blanco para separar las entradas, esto me ayudo mucho chatgpt\n",
    "\n",
    "# Imprimir la lista de datos\n",
    "print(data_list)"
   ]
  },
  {
   "cell_type": "code",
   "execution_count": 181,
   "id": "09cef114",
   "metadata": {},
   "outputs": [
    {
     "name": "stdout",
     "output_type": "stream",
     "text": [
      "                  Pais       Fecha Rendimiento\n",
      "0           España [+]  03/01/2024       2,99%\n",
      "1         Alemania [+]  03/01/2024       2,01%\n",
      "2      Reino Unido [+]  03/01/2024       3,65%\n",
      "3          Francia [+]  03/01/2024       2,56%\n",
      "4           Italia [+]  03/01/2024       3,69%\n",
      "5         Portugal [+]  03/01/2024       2,78%\n",
      "6   Estados Unidos [+]  03/01/2024       3,94%\n",
      "7            Japón [+]  29/12/2023       0,63%\n",
      "8        Australia [+]  03/01/2024       4,05%\n",
      "9          Austria [+]  03/01/2024       2,58%\n",
      "10         Bélgica [+]  03/01/2024       2,67%\n",
      "11          Canadá [+]  03/01/2024       3,18%\n",
      "12       Dinamarca [+]  02/01/2024       2,31%\n",
      "13       Finlandia [+]  03/01/2024       2,56%\n",
      "14          Grecia [+]  03/01/2024       3,09%\n",
      "15           India [+]  03/01/2024       7,22%\n",
      "16         Irlanda [+]  03/01/2024       2,35%\n",
      "17          México [+]  03/01/2024       9,39%\n",
      "18         Noruega [+]  03/01/2024       3,18%\n",
      "19   Nueva Zelanda [+]  03/01/2024       4,56%\n",
      "20    Países Bajos [+]  03/01/2024       2,33%\n",
      "21          Suecia [+]  02/01/2024       2,09%\n",
      "22           Suiza [+]  03/01/2024       0,67%\n"
     ]
    }
   ],
   "source": [
    "# Convertir la lista de diccionarios a un DataFrame\n",
    "df = pd.DataFrame(data_list)\n",
    "\n",
    "# Imprimir el DataFrame\n",
    "print(df)\n",
    "\n",
    "# Guardar el DataFrame como un archivo CSV\n",
    "df.to_csv('datos_scrapeados.csv', index=False)\n"
   ]
  }
 ],
 "metadata": {
  "kernelspec": {
   "display_name": "Python 3",
   "language": "python",
   "name": "python3"
  },
  "language_info": {
   "codemirror_mode": {
    "name": "ipython",
    "version": 3
   },
   "file_extension": ".py",
   "mimetype": "text/x-python",
   "name": "python",
   "nbconvert_exporter": "python",
   "pygments_lexer": "ipython3",
   "version": "3.8.8"
  }
 },
 "nbformat": 4,
 "nbformat_minor": 5
}
