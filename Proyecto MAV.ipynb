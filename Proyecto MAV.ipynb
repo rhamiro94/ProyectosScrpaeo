{
 "cells": [
  {
   "cell_type": "code",
   "execution_count": 24,
   "id": "4200903f",
   "metadata": {},
   "outputs": [
    {
     "name": "stdout",
     "output_type": "stream",
     "text": [
      "Requirement already satisfied: selenium in c:\\users\\lenovo\\anaconda3\\lib\\site-packages (4.16.0)\n",
      "Requirement already satisfied: trio~=0.17 in c:\\users\\lenovo\\anaconda3\\lib\\site-packages (from selenium) (0.23.2)\n",
      "Requirement already satisfied: urllib3[socks]<3,>=1.26 in c:\\users\\lenovo\\anaconda3\\lib\\site-packages (from selenium) (1.26.4)\n",
      "Requirement already satisfied: certifi>=2021.10.8 in c:\\users\\lenovo\\anaconda3\\lib\\site-packages (from selenium) (2023.11.17)\n",
      "Requirement already satisfied: trio-websocket~=0.9 in c:\\users\\lenovo\\anaconda3\\lib\\site-packages (from selenium) (0.11.1)\n",
      "Requirement already satisfied: idna in c:\\users\\lenovo\\anaconda3\\lib\\site-packages (from trio~=0.17->selenium) (2.10)\n",
      "Requirement already satisfied: attrs>=20.1.0 in c:\\users\\lenovo\\anaconda3\\lib\\site-packages (from trio~=0.17->selenium) (20.3.0)\n",
      "Requirement already satisfied: cffi>=1.14 in c:\\users\\lenovo\\anaconda3\\lib\\site-packages (from trio~=0.17->selenium) (1.14.5)\n",
      "Requirement already satisfied: exceptiongroup in c:\\users\\lenovo\\anaconda3\\lib\\site-packages (from trio~=0.17->selenium) (1.2.0)\n",
      "Requirement already satisfied: outcome in c:\\users\\lenovo\\anaconda3\\lib\\site-packages (from trio~=0.17->selenium) (1.3.0.post0)\n",
      "Requirement already satisfied: sortedcontainers in c:\\users\\lenovo\\anaconda3\\lib\\site-packages (from trio~=0.17->selenium) (2.3.0)\n",
      "Requirement already satisfied: sniffio>=1.3.0 in c:\\users\\lenovo\\anaconda3\\lib\\site-packages (from trio~=0.17->selenium) (1.3.0)\n",
      "Requirement already satisfied: pycparser in c:\\users\\lenovo\\anaconda3\\lib\\site-packages (from cffi>=1.14->trio~=0.17->selenium) (2.20)\n",
      "Requirement already satisfied: wsproto>=0.14 in c:\\users\\lenovo\\anaconda3\\lib\\site-packages (from trio-websocket~=0.9->selenium) (1.2.0)\n",
      "Requirement already satisfied: PySocks!=1.5.7,<2.0,>=1.5.6 in c:\\users\\lenovo\\anaconda3\\lib\\site-packages (from urllib3[socks]<3,>=1.26->selenium) (1.7.1)\n",
      "Requirement already satisfied: h11<1,>=0.9.0 in c:\\users\\lenovo\\anaconda3\\lib\\site-packages (from wsproto>=0.14->trio-websocket~=0.9->selenium) (0.14.0)\n",
      "Requirement already satisfied: requests in c:\\users\\lenovo\\anaconda3\\lib\\site-packages (2.31.0)\n",
      "Requirement already satisfied: charset-normalizer<4,>=2 in c:\\users\\lenovo\\anaconda3\\lib\\site-packages (from requests) (3.3.2)\n",
      "Requirement already satisfied: idna<4,>=2.5 in c:\\users\\lenovo\\anaconda3\\lib\\site-packages (from requests) (2.10)\n",
      "Requirement already satisfied: certifi>=2017.4.17 in c:\\users\\lenovo\\anaconda3\\lib\\site-packages (from requests) (2023.11.17)\n",
      "Requirement already satisfied: urllib3<3,>=1.21.1 in c:\\users\\lenovo\\anaconda3\\lib\\site-packages (from requests) (1.26.4)\n"
     ]
    }
   ],
   "source": [
    "#Instalo librerias\n",
    "!pip install selenium\n",
    "!pip install requests"
   ]
  },
  {
   "cell_type": "code",
   "execution_count": 92,
   "id": "e0fc266f",
   "metadata": {},
   "outputs": [],
   "source": [
    "#Importo libreraias\n",
    "import requests\n",
    "import bs4\n",
    "from bs4 import BeautifulSoup\n",
    "from urllib.parse import urljoin\n",
    "import pandas as pd"
   ]
  },
  {
   "cell_type": "code",
   "execution_count": 29,
   "id": "c8ae1c45",
   "metadata": {},
   "outputs": [],
   "source": [
    "#Utilizao las funciones soup de la libreria BS para encontrar las etiquetas que inspeccioné y me interesan\n",
    "soup = BeautifulSoup(response.text, 'html.parser')\n",
    "enlaces_pdf = soup.find_all('a', href=True, text='PDF')"
   ]
  },
  {
   "cell_type": "code",
   "execution_count": 67,
   "id": "2cb028ed",
   "metadata": {},
   "outputs": [
    {
     "name": "stderr",
     "output_type": "stream",
     "text": [
      "C:\\Users\\Lenovo\\anaconda3\\lib\\site-packages\\urllib3\\connectionpool.py:1013: InsecureRequestWarning: Unverified HTTPS request is being made to host 'www.mav-sa.com.ar'. Adding certificate verification is strongly advised. See: https://urllib3.readthedocs.io/en/latest/advanced-usage.html#ssl-warnings\n",
      "  warnings.warn(\n"
     ]
    },
    {
     "name": "stdout",
     "output_type": "stream",
     "text": [
      "El PDF ha sido descargado con éxito: Informe_Semanal_CPD_Pagare_FCE.zip\n"
     ]
    }
   ],
   "source": [
    "#Defino Urls del pdf y nombro archivo\n",
    "url_del_pdf = 'https://www.mav-sa.com.ar/research/cpd-pagares-y-fce/semanal/'\n",
    "nombre_del_archivo = 'Informe_Semanal_CPD_Pagare_FCE.zip'\n",
    "\n",
    "# Desactivo la verificación del certificado SSL\n",
    "response = requests.get(url_del_pdf, verify=False)\n",
    "#Armo una funcion para descargar el contenido especificado por los paramteros anteriores  y  agrego impresiones.\n",
    "if response.status_code == 200:\n",
    "    with open(nombre_del_archivo, 'wb') as archivo:\n",
    "        archivo.write(response.content)\n",
    "    print(f'El PDF ha sido descargado con éxito: {nombre_del_archivo}')\n",
    "else:\n",
    "    print(f'Error al descargar el PDF. Código de estado: {response.status_code}')"
   ]
  },
  {
   "cell_type": "code",
   "execution_count": 20,
   "id": "e7d3be08",
   "metadata": {},
   "outputs": [],
   "source": [
    "#En este caso dejo una probable funcion que podria andar para descargar el ultimo archivo de la pagina(todavia tnego que revisarlo)\n",
    "def obtener_ultima_url_pdf(url):\n",
    "    response = requests.get(url,verify=False)\n",
    "    \n",
    "    if response.status_code == 200:\n",
    "        soup = BeautifulSoup(response.text, 'html.parser')\n",
    "        enlaces_pdf = soup.find_all('a', href=True, text='PDF')\n",
    "        \n",
    "        if enlaces_pdf:\n",
    "            # Obtener el enlace del último PDF disponible\n",
    "            ultima_url_pdf = enlaces_pdf[-1]['href']\n",
    "            return ultima_url_pdf\n",
    "        else:\n",
    "            print('No se encontraron enlaces a archivos PDF.')\n",
    "    else:\n",
    "        print(f'Error al obtener la página. Código de estado: {response.status_code}')\n",
    "\n",
    "    return None\n",
    "\n",
    "def descargar_ultimo_pdf(url, nombre_archivo):\n",
    "    ultima_url_pdf = obtener_ultima_url_pdf(url)\n",
    "\n",
    "    if ultima_url_pdf:\n",
    "        # Descargar el último PDF disponible\n",
    "        response = requests.get(ultima_url_pdf)\n",
    "\n",
    "        if response.status_code == 200:\n",
    "            with open(nombre_archivo, 'wb') as archivo:\n",
    "                archivo.write(response.content)\n",
    "            print(f'El último PDF ha sido descargado con éxito: {nombre_archivo}')\n",
    "        else:\n",
    "            print(f'Error al descargar el PDF. Código de estado: {response.status_code}')\n"
   ]
  }
 ],
 "metadata": {
  "kernelspec": {
   "display_name": "Python 3",
   "language": "python",
   "name": "python3"
  },
  "language_info": {
   "codemirror_mode": {
    "name": "ipython",
    "version": 3
   },
   "file_extension": ".py",
   "mimetype": "text/x-python",
   "name": "python",
   "nbconvert_exporter": "python",
   "pygments_lexer": "ipython3",
   "version": "3.8.8"
  }
 },
 "nbformat": 4,
 "nbformat_minor": 5
}
