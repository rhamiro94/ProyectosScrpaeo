{
  "nbformat": 4,
  "nbformat_minor": 0,
  "metadata": {
    "colab": {
      "provenance": []
    },
    "kernelspec": {
      "name": "python3",
      "display_name": "Python 3"
    },
    "language_info": {
      "name": "python"
    }
  },
  "cells": [
    {
      "cell_type": "code",
      "source": [
        "#Instalo librerias\n",
        "!pip install selenium\n",
        "!pip install requests"
      ],
      "metadata": {
        "colab": {
          "base_uri": "https://localhost:8080/"
        },
        "id": "KIqdnohjdUVJ",
        "outputId": "f45d75bf-2d5d-4ad1-e787-4d9a5edbe9d7"
      },
      "execution_count": 17,
      "outputs": [
        {
          "output_type": "stream",
          "name": "stdout",
          "text": [
            "Requirement already satisfied: selenium in /usr/local/lib/python3.10/dist-packages (4.16.0)\n",
            "Requirement already satisfied: urllib3[socks]<3,>=1.26 in /usr/local/lib/python3.10/dist-packages (from selenium) (2.0.7)\n",
            "Requirement already satisfied: trio~=0.17 in /usr/local/lib/python3.10/dist-packages (from selenium) (0.24.0)\n",
            "Requirement already satisfied: trio-websocket~=0.9 in /usr/local/lib/python3.10/dist-packages (from selenium) (0.11.1)\n",
            "Requirement already satisfied: certifi>=2021.10.8 in /usr/local/lib/python3.10/dist-packages (from selenium) (2023.11.17)\n",
            "Requirement already satisfied: attrs>=20.1.0 in /usr/local/lib/python3.10/dist-packages (from trio~=0.17->selenium) (23.2.0)\n",
            "Requirement already satisfied: sortedcontainers in /usr/local/lib/python3.10/dist-packages (from trio~=0.17->selenium) (2.4.0)\n",
            "Requirement already satisfied: idna in /usr/local/lib/python3.10/dist-packages (from trio~=0.17->selenium) (3.6)\n",
            "Requirement already satisfied: outcome in /usr/local/lib/python3.10/dist-packages (from trio~=0.17->selenium) (1.3.0.post0)\n",
            "Requirement already satisfied: sniffio>=1.3.0 in /usr/local/lib/python3.10/dist-packages (from trio~=0.17->selenium) (1.3.0)\n",
            "Requirement already satisfied: exceptiongroup in /usr/local/lib/python3.10/dist-packages (from trio~=0.17->selenium) (1.2.0)\n",
            "Requirement already satisfied: wsproto>=0.14 in /usr/local/lib/python3.10/dist-packages (from trio-websocket~=0.9->selenium) (1.2.0)\n",
            "Requirement already satisfied: pysocks!=1.5.7,<2.0,>=1.5.6 in /usr/local/lib/python3.10/dist-packages (from urllib3[socks]<3,>=1.26->selenium) (1.7.1)\n",
            "Requirement already satisfied: h11<1,>=0.9.0 in /usr/local/lib/python3.10/dist-packages (from wsproto>=0.14->trio-websocket~=0.9->selenium) (0.14.0)\n",
            "Requirement already satisfied: requests in /usr/local/lib/python3.10/dist-packages (2.31.0)\n",
            "Requirement already satisfied: charset-normalizer<4,>=2 in /usr/local/lib/python3.10/dist-packages (from requests) (3.3.2)\n",
            "Requirement already satisfied: idna<4,>=2.5 in /usr/local/lib/python3.10/dist-packages (from requests) (3.6)\n",
            "Requirement already satisfied: urllib3<3,>=1.21.1 in /usr/local/lib/python3.10/dist-packages (from requests) (2.0.7)\n",
            "Requirement already satisfied: certifi>=2017.4.17 in /usr/local/lib/python3.10/dist-packages (from requests) (2023.11.17)\n"
          ]
        }
      ]
    },
    {
      "cell_type": "code",
      "execution_count": null,
      "metadata": {
        "id": "dzwc7nefbw4N"
      },
      "outputs": [],
      "source": [
        "#Importo libreraias\n",
        "import requests\n",
        "import bs4\n",
        "from bs4 import BeautifulSoup\n",
        "from urllib.parse import urljoin\n",
        "import pandas as pd\n",
        "import requests"
      ]
    },
    {
      "cell_type": "code",
      "source": [
        "#Defino Urls del pdf y nombro archivo\n",
        "url_del_pdf = 'https://www.mav-sa.com.ar/research/cpd-pagares-y-fce/semanal/'\n",
        "nombre_del_archivo = 'Informe_Semanal_CPD_Pagare_FCE.zip'"
      ],
      "metadata": {
        "id": "s2m8vUQdf_ZR"
      },
      "execution_count": null,
      "outputs": []
    },
    {
      "cell_type": "code",
      "source": [
        "# Desactivo la verificación del certificado SSL\n",
        "response = requests.get(url_del_pdf, verify=False)\n",
        "#Armo una funcion para descargar el contenido especificado por los paramteros anteriores  y  agrego impresiones.\n",
        "if response.status_code == 200:\n",
        "    with open(nombre_del_archivo, 'wb') as archivo:\n",
        "        archivo.write(response.content)\n",
        "    print(f'El PDF ha sido descargado con éxito: {nombre_del_archivo}')\n",
        "else:\n",
        "    print(f'Error al descargar el PDF. Código de estado: {response.status_code}')"
      ],
      "metadata": {
        "colab": {
          "base_uri": "https://localhost:8080/"
        },
        "id": "EkqWdckbetzc",
        "outputId": "fc985367-0f81-400e-c1f3-2f468b6d0bb4"
      },
      "execution_count": null,
      "outputs": [
        {
          "output_type": "stream",
          "name": "stderr",
          "text": [
            "/usr/local/lib/python3.10/dist-packages/urllib3/connectionpool.py:1100: InsecureRequestWarning: Unverified HTTPS request is being made to host 'www.mav-sa.com.ar'. Adding certificate verification is strongly advised. See: https://urllib3.readthedocs.io/en/latest/advanced-usage.html#tls-warnings\n",
            "  warnings.warn(\n"
          ]
        },
        {
          "output_type": "stream",
          "name": "stdout",
          "text": [
            "El PDF ha sido descargado con éxito: Informe_Semanal_CPD_Pagare_FCE.zip\n"
          ]
        }
      ]
    },
    {
      "cell_type": "code",
      "source": [
        "#En este caso dejo una probable funcion que podria andar para descargar el ultimo archivo de la pagina(todavia tnego que revisarlo)\n",
        "def obtener_ultima_url_pdf(url):\n",
        "    response = requests.get(url,verify=False)\n",
        "\n",
        "    if response.status_code == 200:\n",
        "        soup = BeautifulSoup(response.text, 'html.parser')\n",
        "        enlaces_pdf = soup.find_all('a', href=True, text='PDF')\n",
        "\n",
        "        if enlaces_pdf:\n",
        "            # Obtener el enlace del último PDF disponible\n",
        "            ultima_url_pdf = enlaces_pdf[-1]['href']\n",
        "            return ultima_url_pdf\n",
        "        else:\n",
        "            print('No se encontraron enlaces a archivos PDF.')\n",
        "    else:\n",
        "        print(f'Error al obtener la página. Código de estado: {response.status_code}')\n",
        "\n",
        "    return None\n",
        "\n",
        "def descargar_ultimo_pdf(url, nombre_archivo):\n",
        "    ultima_url_pdf = obtener_ultima_url_pdf(url)\n",
        "\n",
        "    if ultima_url_pdf:\n",
        "        # Descargar el último PDF disponible\n",
        "        response = requests.get(ultima_url_pdf)\n",
        "\n",
        "        if response.status_code == 200:\n",
        "            with open(nombre_archivo, 'wb') as archivo:\n",
        "                archivo.write(response.content)\n",
        "            print(f'El último PDF ha sido descargado con éxito: {nombre_archivo}')\n",
        "        else:\n",
        "            print(f'Error al descargar el PDF. Código de estado: {response.status_code}')"
      ],
      "metadata": {
        "id": "PzE6s3mDe08Z"
      },
      "execution_count": null,
      "outputs": []
    }
  ]
}